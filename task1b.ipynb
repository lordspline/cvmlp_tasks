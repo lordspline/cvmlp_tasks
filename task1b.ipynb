{
 "cells": [
  {
   "cell_type": "code",
   "execution_count": 25,
   "id": "4865bba3-c612-4914-a7f0-ca8f4a5c33a2",
   "metadata": {},
   "outputs": [
    {
     "name": "stderr",
     "output_type": "stream",
     "text": [
      "OpenCV: FFMPEG: tag 0x5634504d/'MP4V' is not supported with codec id 12 and format 'mp4 / MP4 (MPEG-4 Part 14)'\n",
      "OpenCV: FFMPEG: fallback to use tag 0x7634706d/'mp4v'\n"
     ]
    }
   ],
   "source": [
    "import cv2\n",
    "import os\n",
    "import sys\n",
    "from transformers import CLIPProcessor, CLIPModel\n",
    "import torch.nn.functional as F\n",
    "from IPython.display import clear_output, Video\n",
    "from PIL import Image\n",
    "\n",
    "cap = cv2.VideoCapture(\"./observations_gripper_rgb.mp4\")\n",
    "fourcc = cv2.VideoWriter_fourcc(*'MP4V')\n",
    "out = cv2.VideoWriter('./clip_short_cosine.mp4',fourcc, 30.0, (720,544))\n",
    "\n",
    "model = CLIPModel.from_pretrained(\"openai/clip-vit-base-patch16\")\n",
    "processor = CLIPProcessor.from_pretrained(\"openai/clip-vit-base-patch16\")\n",
    "\n",
    "annotations = [\"onion\", \"basketball\", \"egg yolk\", \"iron (for clothes)\"]\n",
    "annotations_long = [\n",
    "    \"Onion: Layered bulb with papery skin, transitioning from pale white to earthy brown. Circular cross-section.\",\n",
    "    \"Basketball: A spherical orange object with black seams, designed for dribbling, shooting, and passing in basketball.\",\n",
    "    \"Egg Yolk: A golden yolk encircled by a glistening, opaque white, basking in morning sunlight's warm embrace.\",\n",
    "    \"Iron (for clothes): Smooth, sleek, flat device with a pointed tip, used to remove wrinkles from clothes.\"\n",
    "]\n",
    "\n",
    "while(cap.isOpened()):\n",
    "    ret, im = cap.read()\n",
    "    if ret:\n",
    "        converted = cv2.cvtColor(im,cv2.COLOR_BGR2RGB)\n",
    "        pil_im = Image.fromarray(converted)\n",
    "        \n",
    "        inputs = processor(text=annotations, images=pil_im, return_tensors=\"pt\", padding=True)\n",
    "        outputs = model(**inputs)\n",
    "        \n",
    "        # logits_per_image = outputs.logits_per_image # this is the image-text similarity score\n",
    "        # probs = logits_per_image.softmax(dim=1) # we can take the softmax to get the label probabilities\n",
    "        \n",
    "        text_embeds = outputs.text_embeds\n",
    "        image_embeds = outputs.image_embeds\n",
    "        cosine = F.cosine_similarity(text_embeds, image_embeds)\n",
    "        \n",
    "        for i in range(len(annotations)):\n",
    "            cv2.putText(im, annotations[i] + \": \" + str(round(cosine[i].item(), 3)), (10, 40 + 35*i), cv2.FONT_HERSHEY_SIMPLEX, 0.9, (255, 0, 0), 2)\n",
    "        \n",
    "        out.write(im)\n",
    "    else:\n",
    "        break\n",
    "\n",
    "cap.release()\n",
    "out.release()"
   ]
  },
  {
   "cell_type": "code",
   "execution_count": null,
   "id": "4571084f-2ac5-45b7-ac2a-82e4b9e903e7",
   "metadata": {},
   "outputs": [],
   "source": []
  }
 ],
 "metadata": {
  "kernelspec": {
   "display_name": "Python 3 (ipykernel)",
   "language": "python",
   "name": "python3"
  },
  "language_info": {
   "codemirror_mode": {
    "name": "ipython",
    "version": 3
   },
   "file_extension": ".py",
   "mimetype": "text/x-python",
   "name": "python",
   "nbconvert_exporter": "python",
   "pygments_lexer": "ipython3",
   "version": "3.9.13"
  }
 },
 "nbformat": 4,
 "nbformat_minor": 5
}
